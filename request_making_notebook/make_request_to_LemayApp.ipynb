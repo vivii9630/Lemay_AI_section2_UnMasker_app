{
 "cells": [
  {
   "cell_type": "code",
   "execution_count": 7,
   "id": "d6ed13ec",
   "metadata": {},
   "outputs": [],
   "source": [
    "import requests\n",
    "import json"
   ]
  },
  {
   "cell_type": "code",
   "execution_count": 8,
   "id": "0b88876c",
   "metadata": {},
   "outputs": [
    {
     "name": "stdout",
     "output_type": "stream",
     "text": [
      "Input\n",
      "{\"id\": \"9\", \"example\": \"He is a [MASK] player\", \"date\": \"10-02-2021\"} \n",
      "\n"
     ]
    }
   ],
   "source": [
    "#url = \"http://127.0.0.1:8000/tweet\" # for flask self-web server\n",
    "url = \"http://192.168.12.124:5000/tweet\" # for docker if exposed to 9000\n",
    "data = {\n",
    "    \"id\": \"9\",\n",
    "    \"example\": \"He is a [MASK] player\",\n",
    "    \"date\" : \"10-02-2021\"\n",
    "}\n",
    "j_data = json.dumps(data)\n",
    "headers = {'content-type': 'application/json', 'Accept-Charset': 'UTF-8'}\n",
    "print(\"Input\")\n",
    "print(j_data, '\\n')"
   ]
  },
  {
   "cell_type": "code",
   "execution_count": 9,
   "id": "057a74e0",
   "metadata": {},
   "outputs": [
    {
     "name": "stdout",
     "output_type": "stream",
     "text": [
      "Response\n",
      "<Response [200]> {\n",
      "  \"data\": {\n",
      "    \"date\": \"10-02-2021\", \n",
      "    \"example\": \"He is a [MASK] player\", \n",
      "    \"id\": \"9\", \n",
      "    \"mask\": [\n",
      "      {\n",
      "        \"score\": 0.17416350543498993, \n",
      "        \"sequence\": \"he is a former player\", \n",
      "        \"token\": 2280, \n",
      "        \"token_str\": \"former\"\n",
      "      }, \n",
      "      {\n",
      "        \"score\": 0.09695988148450851, \n",
      "        \"sequence\": \"he is a volleyball player\", \n",
      "        \"token\": 7454, \n",
      "        \"token_str\": \"volleyball\"\n",
      "      }, \n",
      "      {\n",
      "        \"score\": 0.09597880393266678, \n",
      "        \"sequence\": \"he is a football player\", \n",
      "        \"token\": 2374, \n",
      "        \"token_str\": \"football\"\n",
      "      }, \n",
      "      {\n",
      "        \"score\": 0.057626813650131226, \n",
      "        \"sequence\": \"he is a retired player\", \n",
      "        \"token\": 3394, \n",
      "        \"token_str\": \"retired\"\n",
      "      }, \n",
      "      {\n",
      "        \"score\": 0.05357310175895691, \n",
      "        \"sequence\": \"he is a basketball player\", \n",
      "        \"token\": 3455, \n",
      "        \"token_str\": \"basketball\"\n",
      "      }\n",
      "    ]\n",
      "  }\n",
      "}\n",
      "\n",
      "None\n"
     ]
    }
   ],
   "source": [
    "response = requests.post(url, data=j_data, headers=headers)\n",
    "print(\"Response\")\n",
    "\n",
    "#Creating generator\n",
    "result= (print(response, response.text)for i in response ) #generator expression\n",
    "\n",
    "#next function for iterating the next value of the generator object.\n",
    "print(next(result)) "
   ]
  },
  {
   "cell_type": "code",
   "execution_count": null,
   "id": "6c382350",
   "metadata": {},
   "outputs": [],
   "source": []
  }
 ],
 "metadata": {
  "kernelspec": {
   "display_name": "Python 3 (ipykernel)",
   "language": "python",
   "name": "python3"
  },
  "language_info": {
   "codemirror_mode": {
    "name": "ipython",
    "version": 3
   },
   "file_extension": ".py",
   "mimetype": "text/x-python",
   "name": "python",
   "nbconvert_exporter": "python",
   "pygments_lexer": "ipython3",
   "version": "3.7.10"
  }
 },
 "nbformat": 4,
 "nbformat_minor": 5
}
